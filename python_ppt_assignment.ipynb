{
 "cells": [
  {
   "cell_type": "code",
   "execution_count": null,
   "id": "66af7e46-a9ae-48c2-8aef-3b15594cf947",
   "metadata": {},
   "outputs": [],
   "source": [
    "#Q1"
   ]
  },
  {
   "cell_type": "code",
   "execution_count": 1,
   "id": "f16ac57d-6451-48f6-800b-836ee92a5ea2",
   "metadata": {},
   "outputs": [],
   "source": [
    "def reverse_string(input_str):\n",
    "    reversed_str = ''\n",
    "    for i in range(len(input_str) - 1, -1, -1):\n",
    "        reversed_str += input_str[i]\n",
    "    return reversed_str"
   ]
  },
  {
   "cell_type": "code",
   "execution_count": 3,
   "id": "fb66ae3c-f77c-4811-8752-845778ef581d",
   "metadata": {},
   "outputs": [
    {
     "name": "stdin",
     "output_type": "stream",
     "text": [
      "Enter a string: pwskills \n"
     ]
    },
    {
     "name": "stdout",
     "output_type": "stream",
     "text": [
      "Reversed string:  sllikswp\n"
     ]
    }
   ],
   "source": [
    "user_input = input(\"Enter a string:\")\n",
    "reversed_input = reverse_string(user_input)\n",
    "print(\"Reversed string:\", reversed_input)"
   ]
  },
  {
   "cell_type": "code",
   "execution_count": null,
   "id": "f676adce-ab09-4323-927f-853fd7409854",
   "metadata": {},
   "outputs": [],
   "source": [
    "#Q2"
   ]
  },
  {
   "cell_type": "code",
   "execution_count": 4,
   "id": "ac4324d0-0d92-4814-8c02-15c7c47212fa",
   "metadata": {},
   "outputs": [],
   "source": [
    "def is_palindrome(input_str):\n",
    "    # Remove spaces and convert to lowercase for case-insensitive comparison\n",
    "    processed_str = input_str.replace(\" \", \"\").lower()\n",
    "    \n",
    "    # Check if the processed string is equal to its reverse\n",
    "    reversed_str = processed_str[::-1]\n",
    "    \n",
    "    return processed_str == reversed_str"
   ]
  },
  {
   "cell_type": "code",
   "execution_count": 5,
   "id": "eb938bf6-e6b8-472e-bfa7-2faae3afbf25",
   "metadata": {},
   "outputs": [
    {
     "name": "stdin",
     "output_type": "stream",
     "text": [
      "Enter a string:  data science\n"
     ]
    },
    {
     "name": "stdout",
     "output_type": "stream",
     "text": [
      "The string is not a palindrome.\n"
     ]
    }
   ],
   "source": [
    "user_input = input(\"Enter a string: \")\n",
    "if is_palindrome(user_input):\n",
    "    print(\"The string is a palindrome.\")\n",
    "else:\n",
    "    print(\"The string is not a palindrome.\")"
   ]
  },
  {
   "cell_type": "code",
   "execution_count": null,
   "id": "d3a70502-50c8-44d0-ac15-4b80eb6c2d65",
   "metadata": {},
   "outputs": [],
   "source": [
    "#Q3"
   ]
  },
  {
   "cell_type": "code",
   "execution_count": 6,
   "id": "081b078c-074c-4137-943a-cdec72b85408",
   "metadata": {},
   "outputs": [],
   "source": [
    "def find_largest_element(lst):\n",
    "    if len(lst) == 0:\n",
    "        return None  # Return None if the list is empty\n",
    "    \n",
    "    largest = lst[0]  # Assume the first element is the largest\n",
    "    \n",
    "    for num in lst:\n",
    "        if num > largest:\n",
    "            largest = num  # Update the largest if a larger number is found\n",
    "    \n",
    "    return largest"
   ]
  },
  {
   "cell_type": "code",
   "execution_count": 12,
   "id": "c943465f-c1ee-4971-b525-b2bd749681e1",
   "metadata": {},
   "outputs": [
    {
     "name": "stdin",
     "output_type": "stream",
     "text": [
      "Enter a list of numbers, separated by spaces:  450\n"
     ]
    },
    {
     "name": "stdout",
     "output_type": "stream",
     "text": [
      "The largest element is: 450\n"
     ]
    }
   ],
   "source": [
    "user_input = input(\"Enter a list of numbers, separated by spaces: \")\n",
    "num_list = [int(num) for num in user_input.split()]\n",
    "largest_element = find_largest_element(num_list)\n",
    "print(\"The largest element is:\", largest_element)"
   ]
  },
  {
   "cell_type": "code",
   "execution_count": null,
   "id": "399491fa-4ccf-4cd4-93b3-20c03b1a06dc",
   "metadata": {},
   "outputs": [],
   "source": [
    "#Q4"
   ]
  },
  {
   "cell_type": "code",
   "execution_count": 13,
   "id": "2939fdb2-eca5-4d4b-8eb9-6a014e6f0155",
   "metadata": {},
   "outputs": [],
   "source": [
    "def countX(lst, x):\n",
    "    count = 0\n",
    "    for ele in lst:\n",
    "        if (ele == x):\n",
    "            count = count + 1\n",
    "    return count"
   ]
  },
  {
   "cell_type": "code",
   "execution_count": 14,
   "id": "a21d61b6-7f37-4cbd-8928-86e006f1af05",
   "metadata": {},
   "outputs": [
    {
     "name": "stdout",
     "output_type": "stream",
     "text": [
      "8 has occurred 5 times\n"
     ]
    }
   ],
   "source": [
    "lst = [8, 6, 8, 10, 8, 20, 10, 8, 8]\n",
    "x = 8\n",
    "print('{} has occurred {} times'.format(x,\n",
    "                                        countX(lst, x)))"
   ]
  },
  {
   "cell_type": "code",
   "execution_count": null,
   "id": "20504bbd-9b43-44ac-9a6a-3123dda3a7a0",
   "metadata": {},
   "outputs": [],
   "source": [
    "#Q5"
   ]
  },
  {
   "cell_type": "code",
   "execution_count": 15,
   "id": "95832900-0697-49a8-824d-40faaf089791",
   "metadata": {},
   "outputs": [],
   "source": [
    "list1 = [10, 20, 20, 4, 45, 45, 45, 99, 99]"
   ]
  },
  {
   "cell_type": "code",
   "execution_count": 17,
   "id": "37f111a4-5ccd-4bd7-8f8b-87cf76287d19",
   "metadata": {},
   "outputs": [],
   "source": [
    "list2 = list(set(list1))\n",
    "list2.sort()"
   ]
  },
  {
   "cell_type": "code",
   "execution_count": 18,
   "id": "ef5541fb-33ec-4712-babc-46a45d0f4c60",
   "metadata": {},
   "outputs": [
    {
     "name": "stdout",
     "output_type": "stream",
     "text": [
      "second largest element is: 45\n"
     ]
    }
   ],
   "source": [
    "print(\"second largest element is:\", list2[-2])"
   ]
  },
  {
   "cell_type": "code",
   "execution_count": null,
   "id": "1ccda838-1ca3-4e8c-a46a-15c69a998ddc",
   "metadata": {},
   "outputs": [],
   "source": [
    "#Q6"
   ]
  },
  {
   "cell_type": "code",
   "execution_count": 19,
   "id": "e955dccc-bd2c-4c81-be23-7c8e4098511a",
   "metadata": {},
   "outputs": [],
   "source": [
    "def remove_duplicates(lst):\n",
    "    return list(set(lst))"
   ]
  },
  {
   "cell_type": "code",
   "execution_count": 20,
   "id": "ecc69bea-c394-48df-9807-8758ed08e01e",
   "metadata": {},
   "outputs": [
    {
     "name": "stdin",
     "output_type": "stream",
     "text": [
      "Enter a list of elements, separated by spaces:  1, 5, 3, 6, 3, 5, 6, 1\n"
     ]
    },
    {
     "name": "stdout",
     "output_type": "stream",
     "text": [
      "List with duplicates removed: ['3,', '6,', '5,', '1,', '1']\n"
     ]
    }
   ],
   "source": [
    "user_input = input(\"Enter a list of elements, separated by spaces: \")\n",
    "input_list = user_input.split()\n",
    "unique_list = remove_duplicates(input_list)\n",
    "\n",
    "print(\"List with duplicates removed:\", unique_list)"
   ]
  },
  {
   "cell_type": "code",
   "execution_count": null,
   "id": "e7d32c77-c885-404e-91bd-2312469fee14",
   "metadata": {},
   "outputs": [],
   "source": [
    "#Q7"
   ]
  },
  {
   "cell_type": "code",
   "execution_count": 21,
   "id": "5d3e656a-6a05-4096-89d0-4f3887fd55b9",
   "metadata": {},
   "outputs": [],
   "source": [
    "def factorial(n):\n",
    "       \n",
    "    if n == 0:\n",
    "        return 1\n",
    "      \n",
    "    return n * factorial(n-1)"
   ]
  },
  {
   "cell_type": "code",
   "execution_count": 22,
   "id": "68aa1e31-67c6-40b3-9630-c7250ab027c8",
   "metadata": {},
   "outputs": [
    {
     "name": "stdout",
     "output_type": "stream",
     "text": [
      "factorial of 5 is 120\n"
     ]
    }
   ],
   "source": [
    "num =5;\n",
    "print('factorial of', num, 'is',factorial(num))"
   ]
  },
  {
   "cell_type": "code",
   "execution_count": null,
   "id": "9087c63a-ec98-43e1-8528-6f291e58d506",
   "metadata": {},
   "outputs": [],
   "source": [
    "#Q8"
   ]
  },
  {
   "cell_type": "code",
   "execution_count": 23,
   "id": "2dbe2308-40d8-47a7-92ad-d99e9b6b79a4",
   "metadata": {},
   "outputs": [],
   "source": [
    "def is_prime(number):\n",
    "    if number <= 1:\n",
    "        return False  # Numbers less than or equal to 1 are not prime\n",
    "    \n",
    "    for i in range(2, int(number**0.5) + 1):\n",
    "        if number % i == 0:\n",
    "            return False  # Number is divisible by i, hence not prime\n",
    "    \n",
    "    return True"
   ]
  },
  {
   "cell_type": "code",
   "execution_count": 24,
   "id": "c589a268-233b-42f1-89f5-b9cfbb53de6c",
   "metadata": {},
   "outputs": [
    {
     "name": "stdin",
     "output_type": "stream",
     "text": [
      "Enter a number:  5\n"
     ]
    },
    {
     "name": "stdout",
     "output_type": "stream",
     "text": [
      "The number is prime.\n"
     ]
    }
   ],
   "source": [
    "user_input = int(input(\"Enter a number: \"))\n",
    "if is_prime(user_input):\n",
    "    print(\"The number is prime.\")\n",
    "else:\n",
    "    print(\"The number is not prime.\")"
   ]
  },
  {
   "cell_type": "code",
   "execution_count": 25,
   "id": "e1f37971-f4c1-4481-9161-ef996d428b4c",
   "metadata": {},
   "outputs": [
    {
     "name": "stdin",
     "output_type": "stream",
     "text": [
      "Enter a number:  1\n"
     ]
    },
    {
     "name": "stdout",
     "output_type": "stream",
     "text": [
      "The number is not prime.\n"
     ]
    }
   ],
   "source": [
    "user_input = int(input(\"Enter a number: \"))\n",
    "if is_prime(user_input):\n",
    "    print(\"The number is prime.\")\n",
    "else:\n",
    "    print(\"The number is not prime.\")"
   ]
  },
  {
   "cell_type": "code",
   "execution_count": null,
   "id": "52b31e0f-b5a9-46ba-8631-41db35efd9b3",
   "metadata": {},
   "outputs": [],
   "source": [
    "#Q9"
   ]
  },
  {
   "cell_type": "code",
   "execution_count": 26,
   "id": "1d08f751-c832-4646-a678-b32ec4efbc50",
   "metadata": {},
   "outputs": [],
   "source": [
    "numbers = [1, 3, 4, 2]"
   ]
  },
  {
   "cell_type": "code",
   "execution_count": 27,
   "id": "e66ec8e5-b003-4911-9b19-48a9d9f224f2",
   "metadata": {},
   "outputs": [
    {
     "name": "stdout",
     "output_type": "stream",
     "text": [
      "None\n",
      "[1, 2, 3, 4]\n"
     ]
    }
   ],
   "source": [
    "print(numbers.sort())\n",
    "print(numbers)"
   ]
  },
  {
   "cell_type": "code",
   "execution_count": null,
   "id": "5eaa0c3d-84d5-46cb-a518-54ba5aaeac83",
   "metadata": {},
   "outputs": [],
   "source": [
    "#Q10"
   ]
  },
  {
   "cell_type": "code",
   "execution_count": 28,
   "id": "12f30d4b-0535-47dd-aada-13b4e4053df5",
   "metadata": {},
   "outputs": [
    {
     "name": "stdout",
     "output_type": "stream",
     "text": [
      "sum of all element in given list: 11\n",
      "sum of all element in given list: 16\n",
      "sum of all element in given list: 34\n",
      "sum of all element in given list: 79\n"
     ]
    }
   ],
   "source": [
    "total= 0 \n",
    "\n",
    "list1 = [11,5,18,45]\n",
    "\n",
    "for ele in range(0,len(list1)):\n",
    "    total = total + list1[ele]\n",
    "    print('sum of all element in given list:',total)"
   ]
  },
  {
   "cell_type": "code",
   "execution_count": null,
   "id": "583474bd-d0f9-4799-807a-6d94020cd622",
   "metadata": {},
   "outputs": [],
   "source": [
    "#Q11"
   ]
  },
  {
   "cell_type": "code",
   "execution_count": 29,
   "id": "d20e1c25-58f8-4793-9040-1db82f2aef0e",
   "metadata": {},
   "outputs": [],
   "source": [
    "def find_common_elements(list1, list2):\n",
    "    common_elements = []\n",
    "    \n",
    "    for element in list1:\n",
    "        if element in list2:\n",
    "            common_elements.append(element)\n",
    "    \n",
    "    return common_elements\n"
   ]
  },
  {
   "cell_type": "code",
   "execution_count": 31,
   "id": "8126c829-d5d0-4fb2-9918-68557e1bb253",
   "metadata": {},
   "outputs": [
    {
     "name": "stdin",
     "output_type": "stream",
     "text": [
      "Enter the elements of the first list, separated by spaces:  1, 2, 3, 4, 5\n",
      "Enter the elements of the second list, separated by spaces:  5, 6, 7, 8, 9\n"
     ]
    },
    {
     "name": "stdout",
     "output_type": "stream",
     "text": [
      "Common elements: []\n"
     ]
    }
   ],
   "source": [
    "user_input1 = input(\"Enter the elements of the first list, separated by spaces: \")\n",
    "list1 = user_input1.split()\n",
    "\n",
    "user_input2 = input(\"Enter the elements of the second list, separated by spaces: \")\n",
    "list2 = user_input2.split()\n",
    "\n",
    "common_elements = find_common_elements(list1, list2)\n",
    "\n",
    "print(\"Common elements:\", common_elements)"
   ]
  },
  {
   "cell_type": "code",
   "execution_count": null,
   "id": "7c333b49-dca2-4fa8-bd25-0185ae7733d2",
   "metadata": {},
   "outputs": [],
   "source": [
    "#Q12"
   ]
  },
  {
   "cell_type": "code",
   "execution_count": 32,
   "id": "408b2515-def3-4336-a1ca-9aab9bdfb8c9",
   "metadata": {},
   "outputs": [],
   "source": [
    "def is_anagram(str1, str2):\n",
    "    str1 = str1.lower()  # Convert both strings to lowercase for case-insensitive comparison\n",
    "    str2 = str2.lower()\n",
    "    \n",
    "    # Remove spaces and punctuation from both strings\n",
    "    str1 = ''.join(char for char in str1 if char.isalnum())\n",
    "    str2 = ''.join(char for char in str2 if char.isalnum())\n",
    "    \n",
    "    # Check if the sorted characters of both strings are equal\n",
    "    return sorted(str1) == sorted(str2)"
   ]
  },
  {
   "cell_type": "code",
   "execution_count": 33,
   "id": "7d8f6753-6fe7-4ff6-b685-2cce02c850bd",
   "metadata": {},
   "outputs": [
    {
     "name": "stdin",
     "output_type": "stream",
     "text": [
      "Enter the first string:  listen\n",
      "Enter the second string:  gram\n"
     ]
    },
    {
     "name": "stdout",
     "output_type": "stream",
     "text": [
      "The strings are not anagrams.\n"
     ]
    }
   ],
   "source": [
    "user_input1 = input(\"Enter the first string: \")\n",
    "user_input2 = input(\"Enter the second string: \")\n",
    "\n",
    "if is_anagram(user_input1, user_input2):\n",
    "    print(\"The strings are anagrams.\")\n",
    "else:\n",
    "    print(\"The strings are not anagrams.\")"
   ]
  },
  {
   "cell_type": "code",
   "execution_count": null,
   "id": "259cd634-7c69-486a-bd30-3eb63cf60966",
   "metadata": {},
   "outputs": [],
   "source": [
    "#Q13"
   ]
  },
  {
   "cell_type": "code",
   "execution_count": 1,
   "id": "18438f47-507b-446c-b5c1-79d3801ed2be",
   "metadata": {},
   "outputs": [],
   "source": [
    "def permute(s, answer):\n",
    "    if (len(s) == 0):\n",
    "        print(answer, end = \"  \")\n",
    "        return\n",
    "     \n",
    "    for i in range(len(s)):\n",
    "        ch = s[i]\n",
    "        left_substr = s[0:i]\n",
    "        right_substr = s[i + 1:]\n",
    "        rest = left_substr + right_substr\n",
    "        permute(rest, answer + ch)"
   ]
  },
  {
   "cell_type": "code",
   "execution_count": 2,
   "id": "fcff3040-6aec-4026-afaa-9ef4e69d10eb",
   "metadata": {},
   "outputs": [
    {
     "name": "stdin",
     "output_type": "stream",
     "text": [
      "Enter the string :  cvb\n"
     ]
    },
    {
     "name": "stdout",
     "output_type": "stream",
     "text": [
      "All possible strings are : \n",
      "cvb  cbv  vcb  vbc  bcv  bvc  "
     ]
    }
   ],
   "source": [
    "answer = \"\"\n",
    "s = input(\"Enter the string : \")\n",
    "print(\"All possible strings are : \")\n",
    "permute(s, answer)"
   ]
  },
  {
   "cell_type": "code",
   "execution_count": null,
   "id": "48a7b611-2a66-48a6-adf2-3af0818cbad6",
   "metadata": {},
   "outputs": [],
   "source": [
    "#Q14"
   ]
  },
  {
   "cell_type": "code",
   "execution_count": 3,
   "id": "c3074dec-77ad-45a6-837b-a30bdd0bbd49",
   "metadata": {},
   "outputs": [],
   "source": [
    "def fibonacci_sequence(n):\n",
    "    sequence = [0, 1]  # Initialize the sequence with the first two Fibonacci numbers\n",
    "    \n",
    "    if n <= 2:\n",
    "        return sequence[:n]  # Return the sequence up to n terms if n is 1 or 2\n",
    "    \n",
    "    while len(sequence) < n:\n",
    "        next_number = sequence[-1] + sequence[-2]  # Calculate the next Fibonacci number\n",
    "        sequence.append(next_number)  # Add the next number to the sequence\n",
    "    \n",
    "    return sequence"
   ]
  },
  {
   "cell_type": "code",
   "execution_count": 5,
   "id": "acccf4ee-6aa7-4017-8d6d-048190f8ff44",
   "metadata": {},
   "outputs": [
    {
     "name": "stdin",
     "output_type": "stream",
     "text": [
      "Enter the number of Fibonacci terms:  9\n"
     ]
    },
    {
     "name": "stdout",
     "output_type": "stream",
     "text": [
      "Fibonacci sequence: [0, 1, 1, 2, 3, 5, 8, 13, 21]\n"
     ]
    }
   ],
   "source": [
    "fib_input = int(input(\"Enter the number of Fibonacci terms: \"))\n",
    "fib_sequence = fibonacci_sequence(fib_input)\n",
    "print(\"Fibonacci sequence:\", fib_sequence)"
   ]
  },
  {
   "cell_type": "code",
   "execution_count": null,
   "id": "ae8ad34e-dbd4-478a-a11b-4529a0ca8346",
   "metadata": {},
   "outputs": [],
   "source": [
    "#Q15"
   ]
  },
  {
   "cell_type": "code",
   "execution_count": 3,
   "id": "474330cd-f6de-412c-af6c-bd2b7024d168",
   "metadata": {},
   "outputs": [
    {
     "name": "stdout",
     "output_type": "stream",
     "text": [
      "The original list : [4, 5, 8, 9, 10, 17]\n"
     ]
    }
   ],
   "source": [
    "test_list = [4, 5, 8, 9, 10, 17]\n",
    "print(\"The original list : \" + str(test_list))"
   ]
  },
  {
   "cell_type": "code",
   "execution_count": 4,
   "id": "a1596a30-b14c-41fa-9cd7-b87f87eb323f",
   "metadata": {},
   "outputs": [
    {
     "name": "stdout",
     "output_type": "stream",
     "text": [
      "median of list is :8.5\n"
     ]
    }
   ],
   "source": [
    "test_list.sort()\n",
    "mid = len(test_list) //2\n",
    "res = (test_list[mid] + test_list[~mid])/2\n",
    "print('median of list is :' +str(res))"
   ]
  },
  {
   "cell_type": "code",
   "execution_count": null,
   "id": "a2feff31-e2ad-4df2-8f0f-7ca78b2cc24a",
   "metadata": {},
   "outputs": [],
   "source": [
    "#Q16"
   ]
  },
  {
   "cell_type": "code",
   "execution_count": 1,
   "id": "bc974a91-3d1f-4133-a7a6-36fdec8774ff",
   "metadata": {},
   "outputs": [
    {
     "name": "stdout",
     "output_type": "stream",
     "text": [
      "Original list : [1, 4, 5, 8, 10]\n",
      "Yes, List is sorted.\n"
     ]
    }
   ],
   "source": [
    "test_list = [1, 4, 5, 8, 10]\n",
    " \n",
    "# printing original list\n",
    "print (\"Original list : \" + str(test_list))\n",
    " \n",
    "# using naive method to\n",
    "# check sorted list\n",
    "flag = 0\n",
    "i = 1\n",
    "while i < len(test_list):\n",
    "    if(test_list[i] < test_list[i - 1]):\n",
    "        flag = 1\n",
    "    i += 1\n",
    "     \n",
    "# printing result\n",
    "if (not flag) :\n",
    "    print (\"Yes, List is sorted.\")\n",
    "else :\n",
    "    print (\"No, List is not sorted.\")"
   ]
  },
  {
   "cell_type": "code",
   "execution_count": null,
   "id": "4d3a87a8-2dcb-4030-b9fa-e8f847929208",
   "metadata": {},
   "outputs": [],
   "source": [
    "#Q17"
   ]
  },
  {
   "cell_type": "code",
   "execution_count": 6,
   "id": "982a00fa-88fa-4134-a1f1-0f208191af6b",
   "metadata": {},
   "outputs": [],
   "source": [
    "def intersection(lst1, lst2):\n",
    "    lst3 = [value for value in lst1 if value in lst2]\n",
    "    return lst3"
   ]
  },
  {
   "cell_type": "code",
   "execution_count": 7,
   "id": "4790318b-5741-4439-bf83-c105cf259603",
   "metadata": {},
   "outputs": [
    {
     "name": "stdout",
     "output_type": "stream",
     "text": [
      "[9, 11, 26, 28]\n"
     ]
    }
   ],
   "source": [
    "lst1 = [4, 9, 1, 17, 11, 26, 28, 54, 69]\n",
    "lst2 = [9, 9, 74, 21, 45, 11, 63, 28, 26]\n",
    "print(intersection(lst1, lst2))"
   ]
  },
  {
   "cell_type": "code",
   "execution_count": null,
   "id": "87921447-2835-4047-8d05-6139fccce67d",
   "metadata": {},
   "outputs": [],
   "source": [
    "#Q18"
   ]
  },
  {
   "cell_type": "code",
   "execution_count": 8,
   "id": "593f73ad-2cff-4d56-a09e-76fe9f8e271a",
   "metadata": {},
   "outputs": [
    {
     "name": "stdout",
     "output_type": "stream",
     "text": [
      "16\n"
     ]
    }
   ],
   "source": [
    "def maximumSubarraySum(arr):\n",
    "       n = len(arr)\n",
    "       maxSum = -1e8\n",
    "       currSum = 0\n",
    "\n",
    "       for i in range(0, n):\n",
    "           currSum = currSum + arr[i]\n",
    "           if(currSum > maxSum):\n",
    "               maxSum = currSum\n",
    "           if(currSum < 0):\n",
    "               currSum = 0\n",
    "      \n",
    "       return maxSum\n",
    "\n",
    "if __name__ == \"__main__\":\n",
    "    # Your code goes here\n",
    "    print(maximumSubarraySum([1, 3, 8, -2, 6, -8, 5]));"
   ]
  },
  {
   "cell_type": "code",
   "execution_count": null,
   "id": "7c303f7c-ac6f-4510-9950-ef8eb5bb6e59",
   "metadata": {},
   "outputs": [],
   "source": [
    "#Q19"
   ]
  },
  {
   "cell_type": "code",
   "execution_count": 9,
   "id": "fb606257-33cc-40c2-922b-a543c36cb8ac",
   "metadata": {},
   "outputs": [
    {
     "name": "stdout",
     "output_type": "stream",
     "text": [
      "Enter String: "
     ]
    },
    {
     "name": "stdin",
     "output_type": "stream",
     "text": [
      " pwskills\n"
     ]
    },
    {
     "name": "stdout",
     "output_type": "stream",
     "text": [
      "\n",
      "Without Vowels = pwsklls\n"
     ]
    }
   ],
   "source": [
    "print(\"Enter String: \", end=\"\")\n",
    "text = input()\n",
    "\n",
    "vowels = ['a', 'e', 'i', 'o', 'u', 'A', 'E', 'I', 'O', 'U']\n",
    "i = 0\n",
    "for c in text:\n",
    "    if c in vowels:\n",
    "        text = text[:i] + text[i+1:]\n",
    "        i = i-1\n",
    "    i = i+1\n",
    "\n",
    "print(\"\\nWithout Vowels =\", text)"
   ]
  },
  {
   "cell_type": "code",
   "execution_count": null,
   "id": "fa7d0d50-d4a2-4626-8df0-25bb4cfee78d",
   "metadata": {},
   "outputs": [],
   "source": [
    "#Q20"
   ]
  },
  {
   "cell_type": "code",
   "execution_count": 11,
   "id": "380b8b14-daaf-4458-863c-f3d5f5c56c10",
   "metadata": {},
   "outputs": [
    {
     "name": "stdout",
     "output_type": "stream",
     "text": [
      "skills pw\n"
     ]
    }
   ],
   "source": [
    "s = \"pw skills\"\n",
    "words = s.split(' ')\n",
    "res =[]\n",
    "for word in words:\n",
    "    res.insert(0, word)\n",
    "\n",
    "print(\" \".join(res))"
   ]
  },
  {
   "cell_type": "code",
   "execution_count": null,
   "id": "c7c4ded3-1379-4977-a680-ae00bc187078",
   "metadata": {},
   "outputs": [],
   "source": [
    "#Q21"
   ]
  },
  {
   "cell_type": "code",
   "execution_count": 12,
   "id": "0717760c-b547-4ef9-a46d-201814bd0528",
   "metadata": {},
   "outputs": [],
   "source": [
    "def isAnagram(a, b):\n",
    "    \n",
    "    #Unequal Length strings cannot be anagrams\n",
    "    if len(a) != len(b):\n",
    "        return False\n",
    "    \n",
    "    #sort the first string\n",
    "    first = sorted(a)\n",
    "    #sort the second string\n",
    "    second = sorted(b)\n",
    "    \n",
    "    #check if both the strings are the same\n",
    "    if first == second:\n",
    "        return True\n",
    "    else:\n",
    "        return False"
   ]
  },
  {
   "cell_type": "code",
   "execution_count": 13,
   "id": "2de9974f-130a-4f0f-8a70-24bd31a3bbec",
   "metadata": {},
   "outputs": [
    {
     "name": "stdout",
     "output_type": "stream",
     "text": [
      "True\n"
     ]
    }
   ],
   "source": [
    "ans = isAnagram(\"listen\",\"silent\")\n",
    "print(ans)"
   ]
  },
  {
   "cell_type": "code",
   "execution_count": null,
   "id": "f50fe55f-73f8-4f96-ae72-048bf5fcfff5",
   "metadata": {},
   "outputs": [],
   "source": [
    "#Q22"
   ]
  },
  {
   "cell_type": "code",
   "execution_count": 14,
   "id": "e65512ae-5ecc-4398-89b2-32b3837126b1",
   "metadata": {},
   "outputs": [],
   "source": [
    "def FirstNonRepeat(s):\n",
    " \n",
    "    for i in s:\n",
    " \n",
    "        if (s.find(i, (s.find(i)+1))) == -1:\n",
    " \n",
    "            print(\"First non-repeating character is\", i)\n",
    " \n",
    "            break\n",
    " \n",
    "    return"
   ]
  },
  {
   "cell_type": "code",
   "execution_count": 15,
   "id": "54858ba7-64b8-48e6-bb4e-1c70dddab3b6",
   "metadata": {},
   "outputs": [
    {
     "name": "stdout",
     "output_type": "stream",
     "text": [
      "First non-repeating character is f\n"
     ]
    }
   ],
   "source": [
    "s = 'full stack data science'\n",
    "FirstNonRepeat(s)"
   ]
  },
  {
   "cell_type": "code",
   "execution_count": null,
   "id": "a2b557f6-1de2-4a8b-85c3-3b8f08745460",
   "metadata": {},
   "outputs": [],
   "source": [
    "#Q23"
   ]
  },
  {
   "cell_type": "code",
   "execution_count": 16,
   "id": "1e687ea5-45be-4e27-9fef-9178db637422",
   "metadata": {},
   "outputs": [],
   "source": [
    "def Prime_Factorial(n):\n",
    "    if n < 4:\n",
    "        return n\n",
    "    arr = []\n",
    "    while n > 1:\n",
    "        for i in range(2, int(2+n//2)):\n",
    "            if i == (1 + n // 2):\n",
    "                arr.append(n)\n",
    "                n = n // n\n",
    "            if n % i == 0:\n",
    "                arr.append(i)\n",
    "                n = n // i\n",
    "                break\n",
    "    return arr"
   ]
  },
  {
   "cell_type": "code",
   "execution_count": 17,
   "id": "95efdac5-dae6-45dc-a9fd-099946585592",
   "metadata": {},
   "outputs": [
    {
     "name": "stdout",
     "output_type": "stream",
     "text": [
      "[2, 3, 5, 7]\n"
     ]
    }
   ],
   "source": [
    "n = 210\n",
    "print(Prime_Factorial(n))"
   ]
  },
  {
   "cell_type": "code",
   "execution_count": null,
   "id": "a9dfd0e4-c70d-4dd0-b0a3-97637cda3464",
   "metadata": {},
   "outputs": [],
   "source": [
    "#Q24"
   ]
  },
  {
   "cell_type": "code",
   "execution_count": 18,
   "id": "4e6822b8-74e1-4955-a287-953bb88fcac9",
   "metadata": {},
   "outputs": [],
   "source": [
    "def isPowerOfTwo(n):\n",
    "    if (n == 0):\n",
    "        return False\n",
    "    while (n != 1):\n",
    "        if (n % 2 != 0):\n",
    "            return False\n",
    "        n = n // 2\n",
    " \n",
    "    return True"
   ]
  },
  {
   "cell_type": "code",
   "execution_count": 19,
   "id": "4cffcbe8-dc0b-4cc3-993b-c4707571b08f",
   "metadata": {},
   "outputs": [
    {
     "name": "stdout",
     "output_type": "stream",
     "text": [
      "No\n",
      "Yes\n"
     ]
    }
   ],
   "source": [
    "if __name__ == \"__main__\":\n",
    " \n",
    "    # Function call\n",
    "    if(isPowerOfTwo(31)):\n",
    "        print('Yes')\n",
    "    else:\n",
    "        print('No')\n",
    "    if(isPowerOfTwo(64)):\n",
    "        print('Yes')\n",
    "    else:\n",
    "        print('No')"
   ]
  },
  {
   "cell_type": "code",
   "execution_count": null,
   "id": "d3676899-cd40-43f9-95db-14d3851c51cb",
   "metadata": {},
   "outputs": [],
   "source": [
    "#Q25"
   ]
  },
  {
   "cell_type": "code",
   "execution_count": 22,
   "id": "e4a1142c-67c9-4c07-bafd-4e2dd273459c",
   "metadata": {},
   "outputs": [],
   "source": [
    "def append_lists():\n",
    "    #list 1\n",
    "    ls1 = [1,2,3,4]\n",
    "    #list 2\n",
    "    ls2 = [5,6,7,8]\n",
    "    \n",
    "    #iterating over list2\n",
    "    for i in ls2:\n",
    "        #appending in list1\n",
    "        ls1.append(i)\n",
    "    print(ls1)"
   ]
  },
  {
   "cell_type": "code",
   "execution_count": null,
   "id": "f475a80e-0eec-4f6e-9bfa-e8a9541ed292",
   "metadata": {},
   "outputs": [],
   "source": [
    "#Q26"
   ]
  },
  {
   "cell_type": "code",
   "execution_count": 23,
   "id": "80fccfcc-7f8a-4081-a09b-20e9c6ec16da",
   "metadata": {},
   "outputs": [
    {
     "name": "stdout",
     "output_type": "stream",
     "text": [
      "Mode is / are: 5\n"
     ]
    }
   ],
   "source": [
    "from collections import Counter\n",
    " \n",
    "# list of elements to calculate mode\n",
    "n_num = [1, 2, 3, 4, 5, 5]\n",
    "n = len(n_num)\n",
    " \n",
    "data = Counter(n_num)\n",
    "get_mode = dict(data)\n",
    "mode = [k for k, v in get_mode.items() if v == max(list(data.values()))]\n",
    " \n",
    "if len(mode) == n:\n",
    "    get_mode = \"No mode found\"\n",
    "else:\n",
    "    get_mode = \"Mode is / are: \" + ', '.join(map(str, mode))\n",
    "     \n",
    "print(get_mode)"
   ]
  },
  {
   "cell_type": "code",
   "execution_count": null,
   "id": "987bc18d-acb6-46f5-9fbd-d11691f2ebeb",
   "metadata": {},
   "outputs": [],
   "source": [
    "#Q27"
   ]
  },
  {
   "cell_type": "code",
   "execution_count": 24,
   "id": "7ac7fdf8-598b-457a-99e7-3d58a1b48d8a",
   "metadata": {},
   "outputs": [
    {
     "name": "stdout",
     "output_type": "stream",
     "text": [
      "The gcd of 60 and 48 is : 12\n"
     ]
    }
   ],
   "source": [
    "def hcf(a, b):\n",
    "    if(b == 0):\n",
    "        return a\n",
    "    else:\n",
    "        return hcf(b, a % b)\n",
    " \n",
    "a = 60\n",
    "b = 48\n",
    " \n",
    "# prints 12\n",
    "print(\"The gcd of 60 and 48 is : \", end=\"\")\n",
    "print(hcf(60, 48))"
   ]
  },
  {
   "cell_type": "code",
   "execution_count": null,
   "id": "ae5c25c4-5c52-48d8-be3d-2faa90eff1c6",
   "metadata": {},
   "outputs": [],
   "source": [
    "#Q28"
   ]
  },
  {
   "cell_type": "code",
   "execution_count": 25,
   "id": "3c939bf6-74a4-41b9-b179-c3fd9e96af6b",
   "metadata": {},
   "outputs": [
    {
     "name": "stdout",
     "output_type": "stream",
     "text": [
      "3\n"
     ]
    }
   ],
   "source": [
    "def floorSqrt(x):\n",
    " \n",
    "    # Base cases\n",
    "    if (x == 0 or x == 1):\n",
    "        return x\n",
    " \n",
    "    # Starting from 1, try all numbers until\n",
    "    # i*i is greater than or equal to x.\n",
    "    i = 1\n",
    "    result = 1\n",
    "    while (result <= x):\n",
    " \n",
    "        i += 1\n",
    "        result = i * i\n",
    " \n",
    "    return i - 1\n",
    " \n",
    " \n",
    "# Driver Code\n",
    "x = 11\n",
    "print(floorSqrt(x))"
   ]
  },
  {
   "cell_type": "code",
   "execution_count": null,
   "id": "1eb72638-cb28-45ac-b544-36e8e8d96a5f",
   "metadata": {},
   "outputs": [],
   "source": [
    "#Q29"
   ]
  },
  {
   "cell_type": "code",
   "execution_count": 26,
   "id": "cc97d241-f725-42fb-8036-e92e1e4f6d80",
   "metadata": {},
   "outputs": [
    {
     "name": "stdout",
     "output_type": "stream",
     "text": [
      "Yes\n"
     ]
    }
   ],
   "source": [
    "def isPalindrome(str):\n",
    " \n",
    "    # Run loop from 0 to len/2\n",
    "    for i in range(0, int(len(str)/2)):\n",
    "        if str[i] != str[len(str)-i-1]:\n",
    "            return False\n",
    "    return True\n",
    " \n",
    "# main function\n",
    "s = \"malayalam\"\n",
    "ans = isPalindrome(s)\n",
    " \n",
    "if (ans):\n",
    "    print(\"Yes\")\n",
    "else:\n",
    "    print(\"No\")"
   ]
  },
  {
   "cell_type": "code",
   "execution_count": null,
   "id": "00d9fb70-0cf6-49bb-9985-fac6f58694c8",
   "metadata": {},
   "outputs": [],
   "source": [
    "#Q30"
   ]
  },
  {
   "cell_type": "code",
   "execution_count": 28,
   "id": "d81905f0-72c8-4141-af81-213dfbbc80ca",
   "metadata": {},
   "outputs": [
    {
     "name": "stdout",
     "output_type": "stream",
     "text": [
      "1\n"
     ]
    }
   ],
   "source": [
    "def findMin(arr, N):\n",
    "     \n",
    "    min_ele = arr[0];\n",
    " \n",
    "    # Traversing over array to\n",
    "    # find minimum element\n",
    "    for i in range(N) :\n",
    "        if arr[i] < min_ele :\n",
    "            min_ele = arr[i]\n",
    " \n",
    "    return min_ele;\n",
    " \n",
    "\n",
    "arr = [5, 6, 1, 2, 3, 4]\n",
    "N = len(arr)\n",
    " \n",
    "print(findMin(arr,N))"
   ]
  },
  {
   "cell_type": "code",
   "execution_count": null,
   "id": "f0b5e022-2108-4c3f-adf1-805da046d6fb",
   "metadata": {},
   "outputs": [],
   "source": [
    "#Q31"
   ]
  },
  {
   "cell_type": "code",
   "execution_count": 29,
   "id": "0b1c428b-8241-46a7-a32b-cd364147f1ca",
   "metadata": {},
   "outputs": [
    {
     "name": "stdout",
     "output_type": "stream",
     "text": [
      "The original list is : [345, 893, 1948, 34, 2346]\n",
      "Odd digit sum : 36\n",
      "Even digit sum : 40\n"
     ]
    }
   ],
   "source": [
    "test_list = [345, 893, 1948, 34, 2346]\n",
    " \n",
    "# printing original list\n",
    "print(\"The original list is : \" + str(test_list))\n",
    " \n",
    "odd_sum = 0\n",
    "even_sum = 0\n",
    " \n",
    "for sub in test_list:\n",
    "    for ele in str(sub):\n",
    "         \n",
    "        # adding in particular summation according to value\n",
    "        if int(ele) % 2 == 0:\n",
    "            even_sum += int(ele)\n",
    "        else:\n",
    "            odd_sum += int(ele)\n",
    " \n",
    "# printing result\n",
    "print(\"Odd digit sum : \" + str(odd_sum))\n",
    "print(\"Even digit sum : \" + str(even_sum))"
   ]
  },
  {
   "cell_type": "code",
   "execution_count": null,
   "id": "152fa35f-129a-4f1c-bdea-99c264a4b277",
   "metadata": {},
   "outputs": [],
   "source": [
    "#Q32"
   ]
  },
  {
   "cell_type": "code",
   "execution_count": 35,
   "id": "93dcba23-08d0-4b25-bd7b-6e813aed75c4",
   "metadata": {},
   "outputs": [],
   "source": [
    "def power(N, P):\n",
    " \n",
    "    \n",
    "    if P == 0:\n",
    "        return 1\n",
    " \n",
    "    # Recurrence relation\n",
    "    return (N*power(N, P-1))"
   ]
  },
  {
   "cell_type": "code",
   "execution_count": 36,
   "id": "39c79f9a-147f-4577-aaeb-2b6ee845af64",
   "metadata": {},
   "outputs": [
    {
     "name": "stdout",
     "output_type": "stream",
     "text": [
      "25\n"
     ]
    }
   ],
   "source": [
    "if __name__ == '__main__':\n",
    "    N = 5\n",
    "    P = 2\n",
    " \n",
    "    print(power(N, P))"
   ]
  },
  {
   "cell_type": "code",
   "execution_count": null,
   "id": "6a2af25e-17c2-4040-971c-5e86a00fc0b8",
   "metadata": {},
   "outputs": [],
   "source": [
    "#Q33"
   ]
  },
  {
   "cell_type": "code",
   "execution_count": 37,
   "id": "14b79ef4-3558-42c6-9658-d586ea2e35d3",
   "metadata": {},
   "outputs": [],
   "source": [
    "def remove_duplicates_preserve_order(lst):\n",
    "    seen = set()\n",
    "    unique_lst = []\n",
    "    \n",
    "    for item in lst:\n",
    "        if item not in seen:\n",
    "            seen.add(item)\n",
    "            unique_lst.append(item)\n",
    "    \n",
    "    return unique_lst"
   ]
  },
  {
   "cell_type": "code",
   "execution_count": 38,
   "id": "9e937f38-8a56-49f2-becb-ef1d6011a1cd",
   "metadata": {},
   "outputs": [
    {
     "name": "stdin",
     "output_type": "stream",
     "text": [
      "Enter a list of elements, separated by spaces:  1, 2, 4, 2, 1, 4, 5\n"
     ]
    },
    {
     "name": "stdout",
     "output_type": "stream",
     "text": [
      "List with duplicates removed: ['1,', '2,', '4,', '5']\n"
     ]
    }
   ],
   "source": [
    "user_input = input(\"Enter a list of elements, separated by spaces: \")\n",
    "input_list = user_input.split()\n",
    "unique_list = remove_duplicates_preserve_order(input_list)\n",
    "\n",
    "print(\"List with duplicates removed:\", unique_list)"
   ]
  },
  {
   "cell_type": "code",
   "execution_count": null,
   "id": "de44635e-0e83-4ff7-a3d7-2132180f030d",
   "metadata": {},
   "outputs": [],
   "source": [
    "#Q34"
   ]
  },
  {
   "cell_type": "code",
   "execution_count": 39,
   "id": "d9a9ea88-291b-4940-be45-4106f1e8a440",
   "metadata": {},
   "outputs": [],
   "source": [
    "def longestCommonPrefix( a):\n",
    "     \n",
    "    size = len(a)\n",
    " \n",
    "    # if size is 0, return empty string\n",
    "    if (size == 0):\n",
    "        return \"\"\n",
    " \n",
    "    if (size == 1):\n",
    "        return a[0]\n",
    " \n",
    "    # sort the array of strings\n",
    "    a.sort()\n",
    "     \n",
    "    # find the minimum length from\n",
    "    # first and last string\n",
    "    end = min(len(a[0]), len(a[size - 1]))\n",
    " \n",
    "    # find the common prefix between\n",
    "    # the first and last string\n",
    "    i = 0\n",
    "    while (i < end and\n",
    "           a[0][i] == a[size - 1][i]):\n",
    "        i += 1\n",
    " \n",
    "    pre = a[0][0: i]\n",
    "    return pre\n",
    " "
   ]
  },
  {
   "cell_type": "code",
   "execution_count": 42,
   "id": "99b44520-1dc5-4ac2-b39c-6285a2bd2176",
   "metadata": {},
   "outputs": [
    {
     "name": "stdout",
     "output_type": "stream",
     "text": [
      "The longest Common Prefix is : \n"
     ]
    }
   ],
   "source": [
    "if __name__ == \"__main__\":\n",
    " \n",
    "    input = [\"pwskillsdatascience\", \"pw\",\n",
    "                     \"skills\", \"skin\"]\n",
    "    print(\"The longest Common Prefix is :\" ,\n",
    "                 longestCommonPrefix(input))"
   ]
  },
  {
   "cell_type": "code",
   "execution_count": null,
   "id": "dfc2836d-73c0-4630-a26c-a06e941e8b7e",
   "metadata": {},
   "outputs": [],
   "source": [
    "#Q35"
   ]
  },
  {
   "cell_type": "code",
   "execution_count": 43,
   "id": "e0955e91-bfeb-48ea-bdc7-a50bf910663c",
   "metadata": {},
   "outputs": [],
   "source": [
    "def isPerfectSquare( num):\n",
    " \n",
    "    n = num;\n",
    "    lo = 1;\n",
    "    hi = num;\n",
    "    while (hi - lo > 1) :\n",
    "        mid = (int)(hi + lo) / 2;\n",
    "        if (num == 1) :\n",
    "            return 1;\n",
    "         \n",
    "        elif (mid * mid == num) :\n",
    "            return 1;\n",
    "         \n",
    "        elif (mid * mid > num) :\n",
    "            hi = mid - 1;\n",
    "         \n",
    "        elif (mid * mid < num) :\n",
    "            lo = mid + 1;\n",
    "         \n",
    "     \n",
    "    if (lo * lo == num or hi * hi == num) :\n",
    "        return 1;\n",
    "     \n",
    "    return 0;"
   ]
  },
  {
   "cell_type": "code",
   "execution_count": 44,
   "id": "5c5d38bc-3c0d-4b2b-8244-40f771c5b92f",
   "metadata": {},
   "outputs": [
    {
     "name": "stdout",
     "output_type": "stream",
     "text": [
      "1\n"
     ]
    }
   ],
   "source": [
    "n = 676;\n",
    "print(isPerfectSquare(n));"
   ]
  },
  {
   "cell_type": "code",
   "execution_count": null,
   "id": "4c147e22-21f8-4b6a-9eab-b0913feb9798",
   "metadata": {},
   "outputs": [],
   "source": [
    "#Q36"
   ]
  },
  {
   "cell_type": "code",
   "execution_count": 47,
   "id": "af54fc2c-f14e-4d47-8939-170d3b45e711",
   "metadata": {},
   "outputs": [],
   "source": [
    "def multiplyList(myList):\n",
    " \n",
    "    # Multiply elements one by one\n",
    "    result = 1\n",
    "    for x in myList:\n",
    "        result = result * x\n",
    "    return result"
   ]
  },
  {
   "cell_type": "code",
   "execution_count": 48,
   "id": "5455cf38-53ee-451d-bb89-9ac4f759812a",
   "metadata": {},
   "outputs": [
    {
     "name": "stdout",
     "output_type": "stream",
     "text": [
      "6\n",
      "24\n"
     ]
    }
   ],
   "source": [
    "list1 = [1, 2, 3]\n",
    "list2 = [3, 2, 4]\n",
    "print(multiplyList(list1))\n",
    "print(multiplyList(list2))"
   ]
  },
  {
   "cell_type": "code",
   "execution_count": null,
   "id": "70e80040-a5cb-4759-a8aa-015aae4b052c",
   "metadata": {},
   "outputs": [],
   "source": [
    "#Q37"
   ]
  },
  {
   "cell_type": "code",
   "execution_count": 49,
   "id": "3eb073fb-6448-439a-ac10-833fa5de53eb",
   "metadata": {},
   "outputs": [
    {
     "name": "stdout",
     "output_type": "stream",
     "text": [
      "science data for program ppt\n"
     ]
    }
   ],
   "source": [
    "string = \"ppt program for data science\"\n",
    "# reversing words in a given string\n",
    "s = string.split()[::-1]\n",
    "l = []\n",
    "for i in s:\n",
    "    # appending reversed words to l\n",
    "    l.append(i)\n",
    "# printing reverse words\n",
    "print(\" \".join(l))"
   ]
  },
  {
   "cell_type": "code",
   "execution_count": null,
   "id": "7932a841-5c14-46fb-970c-c3b52d1b8120",
   "metadata": {},
   "outputs": [],
   "source": [
    "#Q38"
   ]
  },
  {
   "cell_type": "code",
   "execution_count": 54,
   "id": "4ecc18fa-b937-40ab-a158-d8fe76857d83",
   "metadata": {},
   "outputs": [],
   "source": [
    "def findMissing(arr, n):\n",
    " \n",
    "    l, h = 0, n - 1\n",
    "    mid = 0\n",
    " \n",
    "    while (h > l):\n",
    " \n",
    "        mid = l + (h - l) // 2\n",
    " \n",
    "        # Check if middle element is consistent\n",
    "        if (arr[mid] - mid == arr[0]):\n",
    " \n",
    "            # No inconsistency till middle elements\n",
    "            # When missing element is just after\n",
    "            # the middle element\n",
    "            if (arr[mid + 1] - arr[mid] > 1):\n",
    "                return arr[mid] + 1\n",
    "            else:\n",
    " \n",
    "                # Move right\n",
    "                l = mid + 1\n",
    "             \n",
    "        else:\n",
    "            \n",
    "            \n",
    "            if (arr[mid] - arr[mid - 1] > 1):\n",
    "                return arr[mid] - 1\n",
    "            else:\n",
    " \n",
    "                # Move left\n",
    "                h = mid - 1\n",
    "             \n",
    "    # No missing element found\n",
    "    return -1\n",
    " "
   ]
  },
  {
   "cell_type": "code",
   "execution_count": 55,
   "id": "b57881a7-c257-40ce-af0e-9709d2c0b910",
   "metadata": {},
   "outputs": [
    {
     "name": "stdout",
     "output_type": "stream",
     "text": [
      "-6\n"
     ]
    }
   ],
   "source": [
    "arr = [-9, -8, -7, -5, -4, -3, -2, -1, 0 ]\n",
    "n = len(arr)\n",
    " \n",
    "print(findMissing(arr, n))"
   ]
  },
  {
   "cell_type": "code",
   "execution_count": null,
   "id": "55e9eb63-ffdd-44d3-8784-2d28a200de03",
   "metadata": {},
   "outputs": [],
   "source": [
    "#Q39"
   ]
  },
  {
   "cell_type": "code",
   "execution_count": 56,
   "id": "2bd37567-cbaa-49d7-afbb-8da90e6c51fc",
   "metadata": {},
   "outputs": [],
   "source": [
    "def getSum(n):\n",
    " \n",
    "    sum = 0\n",
    "    while (n != 0):\n",
    " \n",
    "        sum = sum + int(n % 10)\n",
    "        n = int(n/10)\n",
    " \n",
    "    return sum"
   ]
  },
  {
   "cell_type": "code",
   "execution_count": 57,
   "id": "0d66bc46-8155-4fb4-b1b4-154989299945",
   "metadata": {},
   "outputs": [
    {
     "name": "stdout",
     "output_type": "stream",
     "text": [
      "21\n"
     ]
    }
   ],
   "source": [
    "if __name__ == \"__main__\":\n",
    "    n = 687\n",
    " \n",
    "    # Function call\n",
    "    print(getSum(n))"
   ]
  },
  {
   "cell_type": "code",
   "execution_count": null,
   "id": "a0b24fef-fdb2-41d4-a226-44c9a16345dd",
   "metadata": {},
   "outputs": [],
   "source": [
    "#Q40"
   ]
  },
  {
   "cell_type": "code",
   "execution_count": null,
   "id": "b8877217-76fc-43ad-b9db-184de2184f3c",
   "metadata": {},
   "outputs": [],
   "source": [
    "def is_palindrome(input_str):\n",
    "    # Remove spaces and convert to lowercase for case-sensitive comparison\n",
    "    processed_str = input_str.replace(\" \", \"\")\n",
    "    \n",
    "    # Check if the processed string is equal to its reverse\n",
    "    return processed_str == processed_str[::-1]\n",
    "\n",
    "# Example usage:\n",
    "user_input = input(\"Enter a string: \")\n",
    "if is_palindrome(user_input):\n",
    "    print(\"The string is a valid palindrome.\")\n",
    "else:\n",
    "    print(\"The string is not a valid palindrome.\")\n"
   ]
  },
  {
   "cell_type": "code",
   "execution_count": null,
   "id": "ef424c9e-9303-4c11-821d-a0373332fa4f",
   "metadata": {},
   "outputs": [],
   "source": []
  },
  {
   "cell_type": "code",
   "execution_count": null,
   "id": "73faf8f4-915d-4228-aca8-281e538d4a97",
   "metadata": {},
   "outputs": [],
   "source": []
  },
  {
   "cell_type": "code",
   "execution_count": null,
   "id": "00610df7-2d05-40f0-b673-0f3d5c20fb20",
   "metadata": {},
   "outputs": [],
   "source": []
  },
  {
   "cell_type": "code",
   "execution_count": null,
   "id": "f145813d-ae40-4322-94a4-5732c881f285",
   "metadata": {},
   "outputs": [],
   "source": []
  },
  {
   "cell_type": "code",
   "execution_count": null,
   "id": "61f90cb4-0a77-465c-ba85-b17560638633",
   "metadata": {},
   "outputs": [],
   "source": []
  },
  {
   "cell_type": "code",
   "execution_count": null,
   "id": "242bfac3-35d0-4468-b269-6c03131a699a",
   "metadata": {},
   "outputs": [],
   "source": []
  },
  {
   "cell_type": "code",
   "execution_count": null,
   "id": "11a120ef-55b1-46e1-b551-466c34f9fb28",
   "metadata": {},
   "outputs": [],
   "source": []
  },
  {
   "cell_type": "code",
   "execution_count": null,
   "id": "1d3ac76e-d09f-486e-b84c-6b3f6bf62021",
   "metadata": {},
   "outputs": [],
   "source": []
  },
  {
   "cell_type": "code",
   "execution_count": null,
   "id": "b578ab70-01d8-436a-96ee-029caa1ba87d",
   "metadata": {},
   "outputs": [],
   "source": []
  },
  {
   "cell_type": "code",
   "execution_count": null,
   "id": "4e37740c-a158-4b62-8441-bacf2a9c5cf4",
   "metadata": {},
   "outputs": [],
   "source": []
  },
  {
   "cell_type": "code",
   "execution_count": null,
   "id": "24b1b8b2-9fd4-424b-9c38-cff2371f83dd",
   "metadata": {},
   "outputs": [],
   "source": []
  },
  {
   "cell_type": "code",
   "execution_count": null,
   "id": "cdbe6884-b9fb-4556-90d0-6ff676fd34ee",
   "metadata": {},
   "outputs": [],
   "source": []
  },
  {
   "cell_type": "code",
   "execution_count": null,
   "id": "923b4cf8-25e6-437c-9387-6910c2d82d38",
   "metadata": {},
   "outputs": [],
   "source": []
  },
  {
   "cell_type": "code",
   "execution_count": null,
   "id": "806219d4-b76c-477f-a09d-afc3c9e977a9",
   "metadata": {},
   "outputs": [],
   "source": []
  },
  {
   "cell_type": "code",
   "execution_count": null,
   "id": "669d5629-a145-4e75-950d-7f479caed03f",
   "metadata": {},
   "outputs": [],
   "source": []
  },
  {
   "cell_type": "code",
   "execution_count": null,
   "id": "82e8ee6f-60ee-4f30-a586-45fad23e6437",
   "metadata": {},
   "outputs": [],
   "source": []
  },
  {
   "cell_type": "code",
   "execution_count": null,
   "id": "6f885a7b-7d62-490a-88c7-0260fb7e3f7f",
   "metadata": {},
   "outputs": [],
   "source": []
  },
  {
   "cell_type": "code",
   "execution_count": null,
   "id": "444be1d7-f6ea-4912-924e-8a619048216b",
   "metadata": {},
   "outputs": [],
   "source": []
  },
  {
   "cell_type": "code",
   "execution_count": null,
   "id": "45b91038-b9d4-4e1b-8258-7088bd77861e",
   "metadata": {},
   "outputs": [],
   "source": []
  },
  {
   "cell_type": "code",
   "execution_count": null,
   "id": "32aa4025-7478-4e6b-a1fd-6d6cb9d24af7",
   "metadata": {},
   "outputs": [],
   "source": []
  },
  {
   "cell_type": "code",
   "execution_count": null,
   "id": "74213869-a63d-45bb-99cf-5259795cbe65",
   "metadata": {},
   "outputs": [],
   "source": []
  },
  {
   "cell_type": "code",
   "execution_count": null,
   "id": "47dd3bf4-da75-401e-85db-897020a95e45",
   "metadata": {},
   "outputs": [],
   "source": []
  },
  {
   "cell_type": "code",
   "execution_count": null,
   "id": "5511ae82-7435-4a04-bde7-fea2d0d55d90",
   "metadata": {},
   "outputs": [],
   "source": []
  },
  {
   "cell_type": "code",
   "execution_count": null,
   "id": "6de21b07-3069-4408-9230-278beb05ddee",
   "metadata": {},
   "outputs": [],
   "source": []
  },
  {
   "cell_type": "code",
   "execution_count": null,
   "id": "808cd513-a4ed-43d5-bba6-6f407321198f",
   "metadata": {},
   "outputs": [],
   "source": []
  },
  {
   "cell_type": "code",
   "execution_count": null,
   "id": "25914b2b-d6f6-43cc-849f-bb168fb65309",
   "metadata": {},
   "outputs": [],
   "source": []
  },
  {
   "cell_type": "code",
   "execution_count": null,
   "id": "630d1295-af25-446a-8d4d-cb2187d48608",
   "metadata": {},
   "outputs": [],
   "source": []
  },
  {
   "cell_type": "code",
   "execution_count": null,
   "id": "091ccd21-bac5-4b9e-9bcc-d8e7c2265fe7",
   "metadata": {},
   "outputs": [],
   "source": []
  },
  {
   "cell_type": "code",
   "execution_count": null,
   "id": "1b20dd2c-018b-4ada-a80b-e6686010fd4a",
   "metadata": {},
   "outputs": [],
   "source": []
  },
  {
   "cell_type": "code",
   "execution_count": null,
   "id": "e1a718bc-e84c-4057-83d6-58ba8c53e424",
   "metadata": {},
   "outputs": [],
   "source": []
  },
  {
   "cell_type": "code",
   "execution_count": null,
   "id": "16dbc0f8-c201-46fc-8cd3-e15561ba70b3",
   "metadata": {},
   "outputs": [],
   "source": []
  },
  {
   "cell_type": "code",
   "execution_count": null,
   "id": "7f0b591f-4a68-4631-9b08-56ce39027e70",
   "metadata": {},
   "outputs": [],
   "source": []
  },
  {
   "cell_type": "code",
   "execution_count": null,
   "id": "42df97cb-9b11-4c6c-9b7f-59c2f73add1d",
   "metadata": {},
   "outputs": [],
   "source": []
  },
  {
   "cell_type": "code",
   "execution_count": null,
   "id": "03237a26-71f0-4163-9dfa-350555150239",
   "metadata": {},
   "outputs": [],
   "source": []
  },
  {
   "cell_type": "code",
   "execution_count": null,
   "id": "2b52f0c4-67ce-405a-a7e2-a9154916301c",
   "metadata": {},
   "outputs": [],
   "source": []
  },
  {
   "cell_type": "code",
   "execution_count": null,
   "id": "6522266d-d2d1-4be1-8be5-88b799bf3b1d",
   "metadata": {},
   "outputs": [],
   "source": []
  },
  {
   "cell_type": "code",
   "execution_count": null,
   "id": "1df697d5-4738-4b5a-a3f8-1f2386d386a5",
   "metadata": {},
   "outputs": [],
   "source": []
  },
  {
   "cell_type": "code",
   "execution_count": null,
   "id": "a9b19cd3-6aef-4d04-9500-859adbfe2686",
   "metadata": {},
   "outputs": [],
   "source": []
  },
  {
   "cell_type": "code",
   "execution_count": null,
   "id": "614e18b6-6d25-4dd9-b737-17b295326221",
   "metadata": {},
   "outputs": [],
   "source": []
  },
  {
   "cell_type": "code",
   "execution_count": null,
   "id": "5702e618-e991-4af2-acc0-7cc0897dba22",
   "metadata": {},
   "outputs": [],
   "source": []
  },
  {
   "cell_type": "code",
   "execution_count": null,
   "id": "50c7921d-8cd2-40e7-bf94-017ee6c50eb6",
   "metadata": {},
   "outputs": [],
   "source": []
  },
  {
   "cell_type": "code",
   "execution_count": null,
   "id": "c8bc776b-46c1-4daa-a4f4-2ed9cc3280e2",
   "metadata": {},
   "outputs": [],
   "source": []
  },
  {
   "cell_type": "code",
   "execution_count": null,
   "id": "7ed5ce6a-7a34-405d-a979-b443f7300667",
   "metadata": {},
   "outputs": [],
   "source": []
  },
  {
   "cell_type": "code",
   "execution_count": null,
   "id": "7f04fb3d-6e1d-4a8f-976a-b9dace086029",
   "metadata": {},
   "outputs": [],
   "source": []
  },
  {
   "cell_type": "code",
   "execution_count": null,
   "id": "30573dec-5ee9-483b-be3c-3e0acd38401a",
   "metadata": {},
   "outputs": [],
   "source": []
  },
  {
   "cell_type": "code",
   "execution_count": null,
   "id": "7a650cc4-0350-4540-a8fe-027e5dbb734c",
   "metadata": {},
   "outputs": [],
   "source": []
  },
  {
   "cell_type": "code",
   "execution_count": null,
   "id": "61d1434d-6ccc-42c0-8eb6-1c665363046c",
   "metadata": {},
   "outputs": [],
   "source": []
  },
  {
   "cell_type": "code",
   "execution_count": null,
   "id": "5efbbe78-fef6-4139-bfd6-e7c4cf8d9c16",
   "metadata": {},
   "outputs": [],
   "source": []
  },
  {
   "cell_type": "code",
   "execution_count": null,
   "id": "3febc290-5451-4120-a5a2-0109970d3bb8",
   "metadata": {},
   "outputs": [],
   "source": []
  },
  {
   "cell_type": "code",
   "execution_count": null,
   "id": "d8bd925a-dff6-4fa9-bdf9-30339e7f5f42",
   "metadata": {},
   "outputs": [],
   "source": []
  },
  {
   "cell_type": "code",
   "execution_count": null,
   "id": "aba0d4f9-ccef-4a3f-88c6-056a7c625f5f",
   "metadata": {},
   "outputs": [],
   "source": []
  },
  {
   "cell_type": "code",
   "execution_count": null,
   "id": "b5acb883-5620-46af-b4a1-af37889495a5",
   "metadata": {},
   "outputs": [],
   "source": []
  },
  {
   "cell_type": "code",
   "execution_count": null,
   "id": "a567c20f-ee22-444c-b284-39073e29fe5d",
   "metadata": {},
   "outputs": [],
   "source": []
  },
  {
   "cell_type": "code",
   "execution_count": null,
   "id": "3f210ec4-fdfc-47b0-b6e3-d075ae9816b7",
   "metadata": {},
   "outputs": [],
   "source": []
  },
  {
   "cell_type": "code",
   "execution_count": null,
   "id": "4d7dd2fb-9f23-412d-ba2b-86e34a5082ae",
   "metadata": {},
   "outputs": [],
   "source": []
  },
  {
   "cell_type": "code",
   "execution_count": null,
   "id": "f23190b7-7fad-49df-8fb3-01eaa81473fd",
   "metadata": {},
   "outputs": [],
   "source": []
  },
  {
   "cell_type": "code",
   "execution_count": null,
   "id": "d49a6656-d5af-4618-a40c-e9ed4f0392eb",
   "metadata": {},
   "outputs": [],
   "source": []
  },
  {
   "cell_type": "code",
   "execution_count": null,
   "id": "ca08e023-70d2-46b6-8377-3a0318588212",
   "metadata": {},
   "outputs": [],
   "source": []
  },
  {
   "cell_type": "code",
   "execution_count": null,
   "id": "1f40a5cc-8cbc-4005-a813-1906360dca0b",
   "metadata": {},
   "outputs": [],
   "source": []
  },
  {
   "cell_type": "code",
   "execution_count": null,
   "id": "2db0d07c-c0a1-49cf-8311-580b1325b5b9",
   "metadata": {},
   "outputs": [],
   "source": []
  },
  {
   "cell_type": "code",
   "execution_count": null,
   "id": "d7af6bde-59da-46a9-842d-3759a09918e0",
   "metadata": {},
   "outputs": [],
   "source": []
  },
  {
   "cell_type": "code",
   "execution_count": null,
   "id": "b9bb15b5-2a2f-4d6a-980a-d0f1e7ad10ae",
   "metadata": {},
   "outputs": [],
   "source": []
  },
  {
   "cell_type": "code",
   "execution_count": null,
   "id": "17148814-06f0-4666-b142-f409f9b2312a",
   "metadata": {},
   "outputs": [],
   "source": []
  },
  {
   "cell_type": "code",
   "execution_count": null,
   "id": "2120dd17-a94d-40a7-81ba-1c87027a21aa",
   "metadata": {},
   "outputs": [],
   "source": []
  },
  {
   "cell_type": "code",
   "execution_count": null,
   "id": "5e9e96d8-1987-4616-be72-561f8d3ade30",
   "metadata": {},
   "outputs": [],
   "source": []
  },
  {
   "cell_type": "code",
   "execution_count": null,
   "id": "8a6887aa-ba30-40f5-8ac2-b962f5adcc2e",
   "metadata": {},
   "outputs": [],
   "source": []
  },
  {
   "cell_type": "code",
   "execution_count": null,
   "id": "43c51485-9246-4ddb-8a6e-1e7df14664cd",
   "metadata": {},
   "outputs": [],
   "source": []
  },
  {
   "cell_type": "code",
   "execution_count": null,
   "id": "4e57ebee-2151-4e1a-aa58-cb4bd480fd73",
   "metadata": {},
   "outputs": [],
   "source": []
  },
  {
   "cell_type": "code",
   "execution_count": null,
   "id": "c9479254-0f61-4bfe-8458-b4c51699e0ae",
   "metadata": {},
   "outputs": [],
   "source": []
  },
  {
   "cell_type": "code",
   "execution_count": null,
   "id": "3ffb1a0b-bab8-4724-b4cf-e9f124119bee",
   "metadata": {},
   "outputs": [],
   "source": []
  },
  {
   "cell_type": "code",
   "execution_count": null,
   "id": "58c2b14c-da47-4d2a-be96-c3da843e7eca",
   "metadata": {},
   "outputs": [],
   "source": []
  },
  {
   "cell_type": "code",
   "execution_count": null,
   "id": "0db49ae2-06bf-4840-9f12-940df83b931c",
   "metadata": {},
   "outputs": [],
   "source": []
  },
  {
   "cell_type": "code",
   "execution_count": null,
   "id": "e07f1cc5-6911-45b8-a013-9e5d42ab63d1",
   "metadata": {},
   "outputs": [],
   "source": []
  },
  {
   "cell_type": "code",
   "execution_count": null,
   "id": "3d1d7383-8821-4ebd-9bd0-52580333e08d",
   "metadata": {},
   "outputs": [],
   "source": []
  },
  {
   "cell_type": "code",
   "execution_count": null,
   "id": "bd0bd10d-c71e-478f-8fa5-e23539db7f13",
   "metadata": {},
   "outputs": [],
   "source": []
  },
  {
   "cell_type": "code",
   "execution_count": null,
   "id": "d6750597-a72d-40cd-b29d-a1b260b968a1",
   "metadata": {},
   "outputs": [],
   "source": []
  },
  {
   "cell_type": "code",
   "execution_count": null,
   "id": "b6423477-4998-4d5b-a67f-1bbab32bab8f",
   "metadata": {},
   "outputs": [],
   "source": []
  },
  {
   "cell_type": "code",
   "execution_count": null,
   "id": "854e788e-8252-4595-a851-6ea26525ddc4",
   "metadata": {},
   "outputs": [],
   "source": []
  },
  {
   "cell_type": "code",
   "execution_count": null,
   "id": "d5adcf03-d18a-4a26-b5e1-ab35b75fd191",
   "metadata": {},
   "outputs": [],
   "source": []
  },
  {
   "cell_type": "code",
   "execution_count": null,
   "id": "9ee2354e-7c93-4251-8839-14b6872b8f8c",
   "metadata": {},
   "outputs": [],
   "source": []
  },
  {
   "cell_type": "code",
   "execution_count": null,
   "id": "33e82d72-ec41-4ff0-b671-07377c45c361",
   "metadata": {},
   "outputs": [],
   "source": []
  },
  {
   "cell_type": "code",
   "execution_count": null,
   "id": "e71d703c-6ca2-4d4b-abbd-3e5e42910155",
   "metadata": {},
   "outputs": [],
   "source": []
  },
  {
   "cell_type": "code",
   "execution_count": null,
   "id": "6464a7d4-c13d-4146-abd5-99905e7933d3",
   "metadata": {},
   "outputs": [],
   "source": []
  },
  {
   "cell_type": "code",
   "execution_count": null,
   "id": "454af095-26f6-4ecd-b403-ef20f26b3ea6",
   "metadata": {},
   "outputs": [],
   "source": []
  },
  {
   "cell_type": "code",
   "execution_count": null,
   "id": "201cfdc0-c02f-45e6-9ae7-7836419e33ce",
   "metadata": {},
   "outputs": [],
   "source": []
  },
  {
   "cell_type": "code",
   "execution_count": null,
   "id": "b82ddc5e-d237-4dd8-b7b5-301e5dff8b19",
   "metadata": {},
   "outputs": [],
   "source": []
  },
  {
   "cell_type": "code",
   "execution_count": null,
   "id": "ea8401d1-1463-4b85-9f3f-eff9d600bb11",
   "metadata": {},
   "outputs": [],
   "source": []
  },
  {
   "cell_type": "code",
   "execution_count": null,
   "id": "95f11588-8ada-4625-86d5-6fc7790ba5dd",
   "metadata": {},
   "outputs": [],
   "source": []
  },
  {
   "cell_type": "code",
   "execution_count": null,
   "id": "ae60b455-c49b-45a0-9085-56dda4b6d667",
   "metadata": {},
   "outputs": [],
   "source": []
  },
  {
   "cell_type": "code",
   "execution_count": null,
   "id": "8b1fcf77-fb7e-4725-83fc-dd5838c56e30",
   "metadata": {},
   "outputs": [],
   "source": []
  },
  {
   "cell_type": "code",
   "execution_count": null,
   "id": "091e05bd-e524-455d-af63-0948d280394e",
   "metadata": {},
   "outputs": [],
   "source": []
  },
  {
   "cell_type": "code",
   "execution_count": null,
   "id": "9e59b399-c641-4d29-8385-4d31a7e360d0",
   "metadata": {},
   "outputs": [],
   "source": []
  },
  {
   "cell_type": "code",
   "execution_count": null,
   "id": "28e6c22a-adeb-48be-94a5-a68f79ce993a",
   "metadata": {},
   "outputs": [],
   "source": []
  },
  {
   "cell_type": "code",
   "execution_count": null,
   "id": "fc62de15-7c42-4dd6-8959-daa90d79fa12",
   "metadata": {},
   "outputs": [],
   "source": []
  },
  {
   "cell_type": "code",
   "execution_count": null,
   "id": "5c1cce4d-57fb-4773-9304-0f258db742b6",
   "metadata": {},
   "outputs": [],
   "source": []
  },
  {
   "cell_type": "code",
   "execution_count": null,
   "id": "c3331079-2ac6-4f7b-ba1e-00df6c0d41e1",
   "metadata": {},
   "outputs": [],
   "source": []
  },
  {
   "cell_type": "code",
   "execution_count": null,
   "id": "f210924c-78de-40f4-87cf-87d0dea01844",
   "metadata": {},
   "outputs": [],
   "source": []
  },
  {
   "cell_type": "code",
   "execution_count": null,
   "id": "9c535621-ca4b-4e06-b643-3bf4a97be1cc",
   "metadata": {},
   "outputs": [],
   "source": []
  },
  {
   "cell_type": "code",
   "execution_count": null,
   "id": "f757ac04-ee3a-4988-8084-f65acc724933",
   "metadata": {},
   "outputs": [],
   "source": []
  },
  {
   "cell_type": "code",
   "execution_count": null,
   "id": "f2988f9b-4f9f-4fe7-948d-e29cdf635e65",
   "metadata": {},
   "outputs": [],
   "source": []
  },
  {
   "cell_type": "code",
   "execution_count": null,
   "id": "f78571e0-49b1-43af-8936-ae508e3f1d28",
   "metadata": {},
   "outputs": [],
   "source": []
  },
  {
   "cell_type": "code",
   "execution_count": null,
   "id": "913be34e-e2ef-497f-a620-d53293bad002",
   "metadata": {},
   "outputs": [],
   "source": []
  },
  {
   "cell_type": "code",
   "execution_count": null,
   "id": "f1d85260-5e33-4088-987d-b666b1d71cb5",
   "metadata": {},
   "outputs": [],
   "source": []
  },
  {
   "cell_type": "code",
   "execution_count": null,
   "id": "445feb41-7ee1-40ac-b74e-fc5d38291ada",
   "metadata": {},
   "outputs": [],
   "source": []
  },
  {
   "cell_type": "code",
   "execution_count": null,
   "id": "2c4c3dc1-46f7-4e88-aa8a-b34de2888753",
   "metadata": {},
   "outputs": [],
   "source": []
  },
  {
   "cell_type": "code",
   "execution_count": null,
   "id": "8bc34713-9e73-44ce-bb8d-9a9f016c13c7",
   "metadata": {},
   "outputs": [],
   "source": []
  },
  {
   "cell_type": "code",
   "execution_count": null,
   "id": "190e91b5-cdfe-4835-a50a-0b320204ad16",
   "metadata": {},
   "outputs": [],
   "source": []
  },
  {
   "cell_type": "code",
   "execution_count": null,
   "id": "63867cf5-28b0-4f07-8c8c-d230ba1ee6c5",
   "metadata": {},
   "outputs": [],
   "source": []
  },
  {
   "cell_type": "code",
   "execution_count": null,
   "id": "ce1ecb2e-5058-444d-ab13-0f1e415c3094",
   "metadata": {},
   "outputs": [],
   "source": []
  },
  {
   "cell_type": "code",
   "execution_count": null,
   "id": "6193b1ad-b4a9-4535-8280-3044d8362617",
   "metadata": {},
   "outputs": [],
   "source": []
  },
  {
   "cell_type": "code",
   "execution_count": null,
   "id": "92f9fc0e-33a8-49de-8882-c01073ca8fa6",
   "metadata": {},
   "outputs": [],
   "source": []
  },
  {
   "cell_type": "code",
   "execution_count": null,
   "id": "d6ca570c-c610-46f0-a65b-a745bbb1a2d4",
   "metadata": {},
   "outputs": [],
   "source": []
  },
  {
   "cell_type": "code",
   "execution_count": null,
   "id": "26693667-97a4-451d-ad15-366380a0dbb5",
   "metadata": {},
   "outputs": [],
   "source": []
  },
  {
   "cell_type": "code",
   "execution_count": null,
   "id": "3583b91a-8743-464f-84d9-62985fd04ef6",
   "metadata": {},
   "outputs": [],
   "source": []
  },
  {
   "cell_type": "code",
   "execution_count": null,
   "id": "344bf27f-50ea-46c4-ae35-9413a1e389ea",
   "metadata": {},
   "outputs": [],
   "source": []
  },
  {
   "cell_type": "code",
   "execution_count": null,
   "id": "649bfbcb-db88-4969-88a7-f180fb944fad",
   "metadata": {},
   "outputs": [],
   "source": []
  },
  {
   "cell_type": "code",
   "execution_count": null,
   "id": "64d49b04-ec0f-48d9-a405-db819c1c9063",
   "metadata": {},
   "outputs": [],
   "source": []
  },
  {
   "cell_type": "code",
   "execution_count": null,
   "id": "59b29a78-6428-4d4a-9676-69dcc58aec35",
   "metadata": {},
   "outputs": [],
   "source": []
  },
  {
   "cell_type": "code",
   "execution_count": null,
   "id": "b4188f50-61a7-4e4b-ae25-578d32eccf9e",
   "metadata": {},
   "outputs": [],
   "source": []
  },
  {
   "cell_type": "code",
   "execution_count": null,
   "id": "df17428b-c9c8-48b6-a55b-5dd8d61d9f60",
   "metadata": {},
   "outputs": [],
   "source": []
  },
  {
   "cell_type": "code",
   "execution_count": null,
   "id": "4591cd39-8f09-42f0-8f43-264cc8c56436",
   "metadata": {},
   "outputs": [],
   "source": []
  },
  {
   "cell_type": "code",
   "execution_count": null,
   "id": "f7cdbdfd-006e-43f0-b739-f4b90414fdb7",
   "metadata": {},
   "outputs": [],
   "source": []
  },
  {
   "cell_type": "code",
   "execution_count": null,
   "id": "7a42cfd0-dec4-4f92-8a8f-db20f66214c6",
   "metadata": {},
   "outputs": [],
   "source": []
  },
  {
   "cell_type": "code",
   "execution_count": null,
   "id": "d040d0ea-d5ac-4fc7-98eb-56793de16be2",
   "metadata": {},
   "outputs": [],
   "source": []
  },
  {
   "cell_type": "code",
   "execution_count": null,
   "id": "3395342a-ecc7-48bb-944a-e212b1df093c",
   "metadata": {},
   "outputs": [],
   "source": []
  },
  {
   "cell_type": "code",
   "execution_count": null,
   "id": "cd108c98-a460-4e21-8c96-49b763aa8093",
   "metadata": {},
   "outputs": [],
   "source": []
  },
  {
   "cell_type": "code",
   "execution_count": null,
   "id": "fa1324c6-c276-4494-84f0-e3727cd97ed9",
   "metadata": {},
   "outputs": [],
   "source": []
  },
  {
   "cell_type": "code",
   "execution_count": null,
   "id": "dbab2a8e-c172-4c4a-9b60-ca0c9af0285d",
   "metadata": {},
   "outputs": [],
   "source": []
  },
  {
   "cell_type": "code",
   "execution_count": null,
   "id": "d441ebe8-83a4-4846-8719-a72bb31ea2fd",
   "metadata": {},
   "outputs": [],
   "source": []
  },
  {
   "cell_type": "code",
   "execution_count": null,
   "id": "a4214bef-187c-49eb-87ed-c9010ac1a0d6",
   "metadata": {},
   "outputs": [],
   "source": []
  },
  {
   "cell_type": "code",
   "execution_count": null,
   "id": "288461f2-5a10-49b1-974a-076accbaa5cb",
   "metadata": {},
   "outputs": [],
   "source": []
  },
  {
   "cell_type": "code",
   "execution_count": null,
   "id": "a0fd456f-5291-4681-bf7d-f63f7ae63f3c",
   "metadata": {},
   "outputs": [],
   "source": []
  },
  {
   "cell_type": "code",
   "execution_count": null,
   "id": "cc23828a-9f1b-445a-a6c8-358444d9e556",
   "metadata": {},
   "outputs": [],
   "source": []
  },
  {
   "cell_type": "code",
   "execution_count": null,
   "id": "c83d2ac1-d814-4d40-9cac-55656769fe81",
   "metadata": {},
   "outputs": [],
   "source": []
  },
  {
   "cell_type": "code",
   "execution_count": null,
   "id": "82231d4f-0174-47c0-a97c-7c1016bb1259",
   "metadata": {},
   "outputs": [],
   "source": []
  },
  {
   "cell_type": "code",
   "execution_count": null,
   "id": "073e6a8e-1b3b-4e46-ad8a-adb54202386f",
   "metadata": {},
   "outputs": [],
   "source": []
  },
  {
   "cell_type": "code",
   "execution_count": null,
   "id": "9b00a5a9-f132-4862-a0b1-4e250496020c",
   "metadata": {},
   "outputs": [],
   "source": []
  },
  {
   "cell_type": "code",
   "execution_count": null,
   "id": "9036d1b9-b75d-456c-a15b-cd27dca044c3",
   "metadata": {},
   "outputs": [],
   "source": []
  },
  {
   "cell_type": "code",
   "execution_count": null,
   "id": "46481c08-f3f9-4b69-97eb-38c3c9181eda",
   "metadata": {},
   "outputs": [],
   "source": []
  },
  {
   "cell_type": "code",
   "execution_count": null,
   "id": "e5b48849-ed5b-4639-99eb-c5e6dc58f8e8",
   "metadata": {},
   "outputs": [],
   "source": []
  },
  {
   "cell_type": "code",
   "execution_count": null,
   "id": "75dd319b-34d9-48c9-aef6-fc8b17c0a147",
   "metadata": {},
   "outputs": [],
   "source": []
  },
  {
   "cell_type": "code",
   "execution_count": null,
   "id": "6c716d2e-16a2-4c36-9e10-cef70ea8fd7a",
   "metadata": {},
   "outputs": [],
   "source": []
  },
  {
   "cell_type": "code",
   "execution_count": null,
   "id": "43e34277-409e-44fb-8db4-17249c7b811f",
   "metadata": {},
   "outputs": [],
   "source": []
  },
  {
   "cell_type": "code",
   "execution_count": null,
   "id": "a8fde3c4-d423-4f5a-a17d-d214d92e7429",
   "metadata": {},
   "outputs": [],
   "source": []
  }
 ],
 "metadata": {
  "kernelspec": {
   "display_name": "Python 3 (ipykernel)",
   "language": "python",
   "name": "python3"
  },
  "language_info": {
   "codemirror_mode": {
    "name": "ipython",
    "version": 3
   },
   "file_extension": ".py",
   "mimetype": "text/x-python",
   "name": "python",
   "nbconvert_exporter": "python",
   "pygments_lexer": "ipython3",
   "version": "3.10.6"
  }
 },
 "nbformat": 4,
 "nbformat_minor": 5
}
